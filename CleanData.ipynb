{
 "cells": [
  {
   "cell_type": "code",
   "execution_count": 1,
   "metadata": {},
   "outputs": [
    {
     "name": "stdout",
     "output_type": "stream",
     "text": [
      "Requirement already satisfied: pandas in c:\\users\\claud\\appdata\\roaming\\python\\python37\\site-packages (1.0.3)\n",
      "Requirement already satisfied: pytz>=2017.2 in c:\\users\\claud\\appdata\\roaming\\python\\python37\\site-packages (from pandas) (2019.3)\n",
      "Requirement already satisfied: numpy>=1.13.3 in c:\\users\\claud\\appdata\\roaming\\python\\python37\\site-packages (from pandas) (1.18.3)\n",
      "Requirement already satisfied: python-dateutil>=2.6.1 in c:\\users\\claud\\miniconda3\\lib\\site-packages (from pandas) (2.8.1)\n",
      "Requirement already satisfied: six>=1.5 in c:\\users\\claud\\miniconda3\\lib\\site-packages (from python-dateutil>=2.6.1->pandas) (1.14.0)\n"
     ]
    }
   ],
   "source": [
    "!pip install pandas"
   ]
  },
  {
   "cell_type": "code",
   "execution_count": 2,
   "metadata": {},
   "outputs": [],
   "source": [
    "import pandas as pd"
   ]
  },
  {
   "cell_type": "code",
   "execution_count": 3,
   "metadata": {},
   "outputs": [],
   "source": [
    "covid_data = pd.read_csv('covid_19_clean_complete.csv')"
   ]
  },
  {
   "cell_type": "code",
   "execution_count": 4,
   "metadata": {},
   "outputs": [
    {
     "data": {
      "text/html": [
       "<div>\n",
       "<style scoped>\n",
       "    .dataframe tbody tr th:only-of-type {\n",
       "        vertical-align: middle;\n",
       "    }\n",
       "\n",
       "    .dataframe tbody tr th {\n",
       "        vertical-align: top;\n",
       "    }\n",
       "\n",
       "    .dataframe thead th {\n",
       "        text-align: right;\n",
       "    }\n",
       "</style>\n",
       "<table border=\"1\" class=\"dataframe\">\n",
       "  <thead>\n",
       "    <tr style=\"text-align: right;\">\n",
       "      <th></th>\n",
       "      <th>Province/State</th>\n",
       "      <th>Country/Region</th>\n",
       "      <th>Lat</th>\n",
       "      <th>Long</th>\n",
       "      <th>Date</th>\n",
       "      <th>Confirmed</th>\n",
       "      <th>Deaths</th>\n",
       "      <th>Recovered</th>\n",
       "    </tr>\n",
       "  </thead>\n",
       "  <tbody>\n",
       "    <tr>\n",
       "      <th>0</th>\n",
       "      <td>NaN</td>\n",
       "      <td>Afghanistan</td>\n",
       "      <td>33.0000</td>\n",
       "      <td>65.0000</td>\n",
       "      <td>1/22/20</td>\n",
       "      <td>0</td>\n",
       "      <td>0</td>\n",
       "      <td>0</td>\n",
       "    </tr>\n",
       "    <tr>\n",
       "      <th>1</th>\n",
       "      <td>NaN</td>\n",
       "      <td>Albania</td>\n",
       "      <td>41.1533</td>\n",
       "      <td>20.1683</td>\n",
       "      <td>1/22/20</td>\n",
       "      <td>0</td>\n",
       "      <td>0</td>\n",
       "      <td>0</td>\n",
       "    </tr>\n",
       "    <tr>\n",
       "      <th>2</th>\n",
       "      <td>NaN</td>\n",
       "      <td>Algeria</td>\n",
       "      <td>28.0339</td>\n",
       "      <td>1.6596</td>\n",
       "      <td>1/22/20</td>\n",
       "      <td>0</td>\n",
       "      <td>0</td>\n",
       "      <td>0</td>\n",
       "    </tr>\n",
       "    <tr>\n",
       "      <th>3</th>\n",
       "      <td>NaN</td>\n",
       "      <td>Andorra</td>\n",
       "      <td>42.5063</td>\n",
       "      <td>1.5218</td>\n",
       "      <td>1/22/20</td>\n",
       "      <td>0</td>\n",
       "      <td>0</td>\n",
       "      <td>0</td>\n",
       "    </tr>\n",
       "    <tr>\n",
       "      <th>4</th>\n",
       "      <td>NaN</td>\n",
       "      <td>Angola</td>\n",
       "      <td>-11.2027</td>\n",
       "      <td>17.8739</td>\n",
       "      <td>1/22/20</td>\n",
       "      <td>0</td>\n",
       "      <td>0</td>\n",
       "      <td>0</td>\n",
       "    </tr>\n",
       "    <tr>\n",
       "      <th>5</th>\n",
       "      <td>NaN</td>\n",
       "      <td>Antigua and Barbuda</td>\n",
       "      <td>17.0608</td>\n",
       "      <td>-61.7964</td>\n",
       "      <td>1/22/20</td>\n",
       "      <td>0</td>\n",
       "      <td>0</td>\n",
       "      <td>0</td>\n",
       "    </tr>\n",
       "    <tr>\n",
       "      <th>6</th>\n",
       "      <td>NaN</td>\n",
       "      <td>Argentina</td>\n",
       "      <td>-38.4161</td>\n",
       "      <td>-63.6167</td>\n",
       "      <td>1/22/20</td>\n",
       "      <td>0</td>\n",
       "      <td>0</td>\n",
       "      <td>0</td>\n",
       "    </tr>\n",
       "    <tr>\n",
       "      <th>7</th>\n",
       "      <td>NaN</td>\n",
       "      <td>Armenia</td>\n",
       "      <td>40.0691</td>\n",
       "      <td>45.0382</td>\n",
       "      <td>1/22/20</td>\n",
       "      <td>0</td>\n",
       "      <td>0</td>\n",
       "      <td>0</td>\n",
       "    </tr>\n",
       "    <tr>\n",
       "      <th>8</th>\n",
       "      <td>Australian Capital Territory</td>\n",
       "      <td>Australia</td>\n",
       "      <td>-35.4735</td>\n",
       "      <td>149.0124</td>\n",
       "      <td>1/22/20</td>\n",
       "      <td>0</td>\n",
       "      <td>0</td>\n",
       "      <td>0</td>\n",
       "    </tr>\n",
       "    <tr>\n",
       "      <th>9</th>\n",
       "      <td>New South Wales</td>\n",
       "      <td>Australia</td>\n",
       "      <td>-33.8688</td>\n",
       "      <td>151.2093</td>\n",
       "      <td>1/22/20</td>\n",
       "      <td>0</td>\n",
       "      <td>0</td>\n",
       "      <td>0</td>\n",
       "    </tr>\n",
       "  </tbody>\n",
       "</table>\n",
       "</div>"
      ],
      "text/plain": [
       "                 Province/State       Country/Region      Lat      Long  \\\n",
       "0                           NaN          Afghanistan  33.0000   65.0000   \n",
       "1                           NaN              Albania  41.1533   20.1683   \n",
       "2                           NaN              Algeria  28.0339    1.6596   \n",
       "3                           NaN              Andorra  42.5063    1.5218   \n",
       "4                           NaN               Angola -11.2027   17.8739   \n",
       "5                           NaN  Antigua and Barbuda  17.0608  -61.7964   \n",
       "6                           NaN            Argentina -38.4161  -63.6167   \n",
       "7                           NaN              Armenia  40.0691   45.0382   \n",
       "8  Australian Capital Territory            Australia -35.4735  149.0124   \n",
       "9               New South Wales            Australia -33.8688  151.2093   \n",
       "\n",
       "      Date  Confirmed  Deaths  Recovered  \n",
       "0  1/22/20          0       0          0  \n",
       "1  1/22/20          0       0          0  \n",
       "2  1/22/20          0       0          0  \n",
       "3  1/22/20          0       0          0  \n",
       "4  1/22/20          0       0          0  \n",
       "5  1/22/20          0       0          0  \n",
       "6  1/22/20          0       0          0  \n",
       "7  1/22/20          0       0          0  \n",
       "8  1/22/20          0       0          0  \n",
       "9  1/22/20          0       0          0  "
      ]
     },
     "execution_count": 4,
     "metadata": {},
     "output_type": "execute_result"
    }
   ],
   "source": [
    "covid_data.head(10)"
   ]
  },
  {
   "cell_type": "code",
   "execution_count": null,
   "metadata": {},
   "outputs": [
    {
     "name": "stdout",
     "output_type": "stream",
     "text": [
      "Requirement already satisfied: matplotlib in c:\\users\\claud\\appdata\\roaming\\python\\python37\\site-packages (3.2.1)\n",
      "Requirement already satisfied: kiwisolver>=1.0.1 in c:\\users\\claud\\appdata\\roaming\\python\\python37\\site-packages (from matplotlib) (1.2.0)\n",
      "Requirement already satisfied: numpy>=1.11 in c:\\users\\claud\\appdata\\roaming\\python\\python37\\site-packages (from matplotlib) (1.18.3)\n",
      "Requirement already satisfied: cycler>=0.10 in c:\\users\\claud\\appdata\\roaming\\python\\python37\\site-packages (from matplotlib) (0.10.0)\n",
      "Requirement already satisfied: pyparsing!=2.0.4,!=2.1.2,!=2.1.6,>=2.0.1 in c:\\users\\claud\\appdata\\roaming\\python\\python37\\site-packages (from matplotlib) (2.4.7)\n",
      "Requirement already satisfied: python-dateutil>=2.1 in c:\\users\\claud\\miniconda3\\lib\\site-packages (from matplotlib) (2.8.1)\n",
      "Requirement already satisfied: six in c:\\users\\claud\\miniconda3\\lib\\site-packages (from cycler>=0.10->matplotlib) (1.14.0)\n"
     ]
    }
   ],
   "source": [
    "!pip install matplotlib\n",
    "!pip install seaborn\n",
    "import matplotlib.pyplot as plt\n",
    "import seaborn as sb"
   ]
  },
  {
   "cell_type": "code",
   "execution_count": null,
   "metadata": {},
   "outputs": [],
   "source": [
    "sb.pairplot(covid_data.dropna(), hue='Country/Region')\n",
    ";"
   ]
  },
  {
   "cell_type": "code",
   "execution_count": null,
   "metadata": {},
   "outputs": [],
   "source": [
    "covid_data.drop(['Province/State', 'Lat', 'Long'],axis=1, inplace=True)\n",
    "covid_data['Date'] = pd.to_datetime(covid_data['Date'])"
   ]
  },
  {
   "cell_type": "code",
   "execution_count": null,
   "metadata": {},
   "outputs": [],
   "source": [
    "covid_data.head(10)"
   ]
  },
  {
   "cell_type": "code",
   "execution_count": null,
   "metadata": {},
   "outputs": [],
   "source": [
    "#aggregates de countries by date\n",
    "covid_data = covid_data.groupby(['Country/Region', 'Date'])[['Confirmed', 'Deaths', 'Recovered']].apply(sum)\n",
    "\n",
    "#eliminates rows with no suspected, no deaths and no cured\n",
    "covid_data = covid_data[(covid_data.T != 0).any()] \n",
    "\n",
    "#get group by columns back\n",
    "covid_data.reset_index(inplace=True) \n",
    "\n",
    "#substructs the mim date from the current date (and returns the result in days - dt.days)\n",
    "covid_data['Ellapsed Days'] = (covid_data['Date'] - covid_data.groupby('Country/Region')['Date'].transform('min')).dt.days\n",
    "\n",
    "covid_data.head(10)"
   ]
  },
  {
   "cell_type": "code",
   "execution_count": null,
   "metadata": {
    "scrolled": true
   },
   "outputs": [],
   "source": []
  },
  {
   "cell_type": "code",
   "execution_count": null,
   "metadata": {
    "scrolled": false
   },
   "outputs": [],
   "source": [
    "#get countries present in covid data and removing trailing white spaces\n",
    "covid_data_country_unique = covid_data['Country/Region'].drop_duplicates().str.strip()\n",
    "pd.set_option('display.max_rows', covid_data_country_unique.shape[0]+1)\n",
    "print(covid_data_country_unique)\n",
    "\n",
    "# Get names of indexes for which column Country/Region is not a country\n",
    "index1 = covid_data[covid_data['Country/Region'] == 'Diamond Princess' ].index\n",
    "index2 = covid_data[covid_data['Country/Region'] == 'MS Zaandam' ].index\n",
    "index3 = covid_data[covid_data['Country/Region'] == 'Holy See' ].index\n",
    " \n",
    "# Delete these rows indexes from dataFrame\n",
    "covid_data.drop(index1 , inplace=True)\n",
    "covid_data.drop(index2 , inplace=True)\n",
    "covid_data.drop(index3 , inplace=True)"
   ]
  },
  {
   "cell_type": "code",
   "execution_count": null,
   "metadata": {},
   "outputs": [],
   "source": []
  },
  {
   "cell_type": "code",
   "execution_count": null,
   "metadata": {},
   "outputs": [],
   "source": [
    "countries_data = pd.read_csv('countries of the world.csv')\n",
    "\n",
    "#removing trailing white spaces\n",
    "countries_data_country = countries_data['Country'].str.strip()\n",
    "\n",
    "#replacing & for and\n",
    "countries_data_country.replace({'&': 'and'}, inplace=True, regex=True)\n",
    "\n",
    "#particular cases\n",
    "countries_data_country.replace({'Taiwan': 'Taiwan*'}, inplace=True, regex=True)\n",
    "countries_data_country.replace({'Macedonia': 'North Macedonia'}, inplace=True, regex=True)\n",
    "countries_data_country.replace({'Korea, South': 'South Korea'}, inplace=True, regex=True)\n",
    "countries_data_country.replace({'United States': 'US'}, inplace=True, regex=True)\n",
    "countries_data_country.replace({'Gambia, The': 'Gambia'}, inplace=True, regex=True)\n",
    "countries_data_country.replace({'American Samoa': 'Samoa'}, inplace=True, regex=True)\n",
    "countries_data_country.replace({'Czech Republic': 'Czechia'}, inplace=True, regex=True)\n",
    "countries_data_country.replace({'Swaziland': 'Eswatini'}, inplace=True, regex=True)\n",
    "countries_data_country.replace({'East Timor': 'Timor-Leste'}, inplace=True, regex=True)\n",
    "countries_data_country.replace({'Bahamas, The': 'Bahamas'}, inplace=True, regex=True)\n",
    "countries_data_country.replace({'Cape Verde': 'Cabo Verde'}, inplace=True, regex=True)\n",
    "countries_data_country.replace({'Central African Rep.': 'Central African Republic'}, inplace=True, regex=True)\n",
    "countries_data_country.replace({'Congo, Dem. Rep.': 'Congo (Kinshasa)'}, inplace=True, regex=True)\n",
    "countries_data_country.replace({'Congo, Repub. of the': 'Congo (Brazzaville)'}, inplace=True, regex=True)\n",
    "\n",
    "\n",
    "# Get names of indexes for which column Country/Region is not present in countries_data\n",
    "index1 = covid_data[covid_data['Country/Region'] == 'Kosovo' ].index\n",
    "index2 = covid_data[covid_data['Country/Region'] == 'West Bank and Gaza' ].index\n",
    "index3 = covid_data[covid_data['Country/Region'] == 'Montenegro' ].index\n",
    "index4 = covid_data[covid_data['Country/Region'] == 'South Sudan' ].index\n",
    " \n",
    "# Delete these rows indexes from dataFrame\n",
    "covid_data.drop(index1 , inplace=True)\n",
    "covid_data.drop(index2 , inplace=True)\n",
    "covid_data.drop(index3 , inplace=True)\n",
    "covid_data.drop(index4 , inplace=True)"
   ]
  },
  {
   "cell_type": "code",
   "execution_count": null,
   "metadata": {},
   "outputs": [],
   "source": [
    "#get countries present in covid data and removing trailing white spaces\n",
    "covid_data_country_unique = covid_data['Country/Region'].drop_duplicates().str.strip()\n",
    "\n",
    "#get series with all the countries present in both data sets\n",
    "df = pd.concat([covid_data_country_unique,countries_data_country])\n",
    "\n",
    "#drop values that are repeated (keep the unique values)\n",
    "unique_values = df.drop_duplicates(keep=False)\n",
    "\n",
    "#sort them for an easy read\n",
    "unique_values = unique_values.sort_values()"
   ]
  },
  {
   "cell_type": "code",
   "execution_count": null,
   "metadata": {},
   "outputs": [],
   "source": [
    "pd.set_option('display.max_rows', unique_values.shape[0]+1)\n",
    "print(unique_values)"
   ]
  },
  {
   "cell_type": "code",
   "execution_count": null,
   "metadata": {},
   "outputs": [],
   "source": [
    "#replacing the column with the country names with the revised column\n",
    "old_df = pd.DataFrame(countries_data)\n",
    "reviwed_df = pd.DataFrame(countries_data_country)\n",
    "new_df = old_df.assign(Country=reviwed_df['Country'])\n",
    "\n",
    "#saving both cleaned data_sets into to a file\n",
    "new_df.to_csv('countries_data_clean.csv')\n",
    "\n",
    "covid_data.to_csv('covid_data_clean.csv')"
   ]
  }
 ],
 "metadata": {
  "kernelspec": {
   "display_name": "Python 3",
   "language": "python",
   "name": "python3"
  },
  "language_info": {
   "codemirror_mode": {
    "name": "ipython",
    "version": 3
   },
   "file_extension": ".py",
   "mimetype": "text/x-python",
   "name": "python",
   "nbconvert_exporter": "python",
   "pygments_lexer": "ipython3",
   "version": "3.7.6"
  }
 },
 "nbformat": 4,
 "nbformat_minor": 4
}
